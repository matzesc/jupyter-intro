{
 "cells": [
  {
   "cell_type": "markdown",
   "id": "4c4bf2ad-98f2-4f5c-a2b2-d370436ef25b",
   "metadata": {},
   "source": [
    "# Introduction to Python using Jupyter\n",
    "\n",
    "Topics\n",
    "1. Print something\n",
    "2. Using variables\n",
    "3. Basic Math\n",
    "4. Some more Math functions (abs, log, rond, ...)\n",
    "5. Prime factorization\n",
    "6. Math for signal processing"
   ]
  },
  {
   "cell_type": "markdown",
   "id": "18ed599d-9c9f-4026-bdae-e595b88ca099",
   "metadata": {},
   "source": [
    "## Print something\n",
    "\n",
    "Python uses `print()` (see [print()](https://docs.python.org/3/library/functions.html#print)) function to print messages"
   ]
  },
  {
   "cell_type": "code",
   "execution_count": 1,
   "id": "3eb12b70-b910-40ce-84dd-739717d875cf",
   "metadata": {},
   "outputs": [
    {
     "name": "stdout",
     "output_type": "stream",
     "text": [
      "My first message\n"
     ]
    }
   ],
   "source": [
    "print(\"My first message\")"
   ]
  },
  {
   "cell_type": "code",
   "execution_count": 2,
   "id": "7c4b1ebb-340f-4e64-ac5a-e0e9ff6a6a44",
   "metadata": {},
   "outputs": [
    {
     "name": "stdout",
     "output_type": "stream",
     "text": [
      "Help on built-in function print in module builtins:\n",
      "\n",
      "print(...)\n",
      "    print(value, ..., sep=' ', end='\\n', file=sys.stdout, flush=False)\n",
      "    \n",
      "    Prints the values to a stream, or to sys.stdout by default.\n",
      "    Optional keyword arguments:\n",
      "    file:  a file-like object (stream); defaults to the current sys.stdout.\n",
      "    sep:   string inserted between values, default a space.\n",
      "    end:   string appended after the last value, default a newline.\n",
      "    flush: whether to forcibly flush the stream.\n",
      "\n"
     ]
    }
   ],
   "source": [
    "help(print)"
   ]
  },
  {
   "cell_type": "markdown",
   "id": "de208d4d-9f12-494a-aa15-19ee1502942d",
   "metadata": {},
   "source": [
    "## Using variables\n",
    "\n",
    "* assign variables\n",
    "* show type of variables using `type()` function, see [type()](https://docs.python.org/3/library/functions.html#type)\n",
    "* show all variables using `vars()`, `locals()` and `globals()`, see [Build-in Functions](https://docs.python.org/3/library/functions.html)"
   ]
  },
  {
   "cell_type": "code",
   "execution_count": 3,
   "id": "b11ba456-33a9-4632-9998-53e5414610d1",
   "metadata": {},
   "outputs": [
    {
     "data": {
      "text/plain": [
       "5"
      ]
     },
     "execution_count": 3,
     "metadata": {},
     "output_type": "execute_result"
    }
   ],
   "source": [
    "a = 5\n",
    "a"
   ]
  },
  {
   "cell_type": "code",
   "execution_count": 4,
   "id": "855bbd65-ebfa-4ebb-9045-b0c56c036229",
   "metadata": {},
   "outputs": [
    {
     "data": {
      "text/plain": [
       "int"
      ]
     },
     "execution_count": 4,
     "metadata": {},
     "output_type": "execute_result"
    }
   ],
   "source": [
    "type(a)"
   ]
  },
  {
   "cell_type": "code",
   "execution_count": 5,
   "id": "34818189-6ffc-4dae-b7ff-cf988fa40d34",
   "metadata": {},
   "outputs": [
    {
     "data": {
      "text/plain": [
       "2.0"
      ]
     },
     "execution_count": 5,
     "metadata": {},
     "output_type": "execute_result"
    }
   ],
   "source": [
    "b = 2.0\n",
    "b"
   ]
  },
  {
   "cell_type": "code",
   "execution_count": 6,
   "id": "697d8d76-dd9d-46da-8567-5873d57dacef",
   "metadata": {},
   "outputs": [
    {
     "data": {
      "text/plain": [
       "float"
      ]
     },
     "execution_count": 6,
     "metadata": {},
     "output_type": "execute_result"
    }
   ],
   "source": [
    "type(b)"
   ]
  },
  {
   "cell_type": "code",
   "execution_count": 7,
   "id": "9798f6d4-9c9e-487d-b40a-4810276e8b57",
   "metadata": {},
   "outputs": [
    {
     "data": {
      "text/plain": [
       "156250000.0"
      ]
     },
     "execution_count": 7,
     "metadata": {},
     "output_type": "execute_result"
    }
   ],
   "source": [
    "c = 156.25e6\n",
    "c"
   ]
  },
  {
   "cell_type": "code",
   "execution_count": 8,
   "id": "88687a31-9ead-434f-b0b4-05abacc01551",
   "metadata": {},
   "outputs": [
    {
     "data": {
      "text/plain": [
       "float"
      ]
     },
     "execution_count": 8,
     "metadata": {},
     "output_type": "execute_result"
    }
   ],
   "source": [
    "type(c)"
   ]
  },
  {
   "cell_type": "code",
   "execution_count": 9,
   "id": "bfe884ba-26f3-4e9c-bf29-131906f4a79d",
   "metadata": {},
   "outputs": [
    {
     "data": {
      "text/plain": [
       "{'__name__': '__main__',\n",
       " '__doc__': 'Automatically created module for IPython interactive environment',\n",
       " '__package__': None,\n",
       " '__loader__': None,\n",
       " '__spec__': None,\n",
       " '__builtin__': <module 'builtins' (built-in)>,\n",
       " '__builtins__': <module 'builtins' (built-in)>,\n",
       " '_ih': ['',\n",
       "  'print(\"My first message\")',\n",
       "  'help(print)',\n",
       "  'a = 5\\na',\n",
       "  'type(a)',\n",
       "  'b = 2.0\\nb',\n",
       "  'type(b)',\n",
       "  'c = 156.25e6\\nc',\n",
       "  'type(c)',\n",
       "  'vars()'],\n",
       " '_oh': {3: 5, 4: int, 5: 2.0, 6: float, 7: 156250000.0, 8: float},\n",
       " '_dh': [WindowsPath('D:/Mathias/Code/personal/python/jupyter/jupyter-intro/Python')],\n",
       " 'In': ['',\n",
       "  'print(\"My first message\")',\n",
       "  'help(print)',\n",
       "  'a = 5\\na',\n",
       "  'type(a)',\n",
       "  'b = 2.0\\nb',\n",
       "  'type(b)',\n",
       "  'c = 156.25e6\\nc',\n",
       "  'type(c)',\n",
       "  'vars()'],\n",
       " 'Out': {3: 5, 4: int, 5: 2.0, 6: float, 7: 156250000.0, 8: float},\n",
       " 'get_ipython': <bound method InteractiveShell.get_ipython of <ipykernel.zmqshell.ZMQInteractiveShell object at 0x000001F014A2EBF0>>,\n",
       " 'exit': <IPython.core.autocall.ZMQExitAutocall at 0x1f014a2c400>,\n",
       " 'quit': <IPython.core.autocall.ZMQExitAutocall at 0x1f014a2c400>,\n",
       " '_': float,\n",
       " '__': 156250000.0,\n",
       " '___': float,\n",
       " '_i': 'type(c)',\n",
       " '_ii': 'c = 156.25e6\\nc',\n",
       " '_iii': 'type(b)',\n",
       " '_i1': 'print(\"My first message\")',\n",
       " '_i2': 'help(print)',\n",
       " '_i3': 'a = 5\\na',\n",
       " 'a': 5,\n",
       " '_3': 5,\n",
       " '_i4': 'type(a)',\n",
       " '_4': int,\n",
       " '_i5': 'b = 2.0\\nb',\n",
       " 'b': 2.0,\n",
       " '_5': 2.0,\n",
       " '_i6': 'type(b)',\n",
       " '_6': float,\n",
       " '_i7': 'c = 156.25e6\\nc',\n",
       " 'c': 156250000.0,\n",
       " '_7': 156250000.0,\n",
       " '_i8': 'type(c)',\n",
       " '_8': float,\n",
       " '_i9': 'vars()'}"
      ]
     },
     "execution_count": 9,
     "metadata": {},
     "output_type": "execute_result"
    }
   ],
   "source": [
    "vars()"
   ]
  },
  {
   "cell_type": "code",
   "execution_count": 10,
   "id": "21da0ba4-9e4d-4eb6-872d-6835796f0dfb",
   "metadata": {},
   "outputs": [
    {
     "data": {
      "text/plain": [
       "{'__name__': '__main__',\n",
       " '__doc__': 'Automatically created module for IPython interactive environment',\n",
       " '__package__': None,\n",
       " '__loader__': None,\n",
       " '__spec__': None,\n",
       " '__builtin__': <module 'builtins' (built-in)>,\n",
       " '__builtins__': <module 'builtins' (built-in)>,\n",
       " '_ih': ['',\n",
       "  'print(\"My first message\")',\n",
       "  'help(print)',\n",
       "  'a = 5\\na',\n",
       "  'type(a)',\n",
       "  'b = 2.0\\nb',\n",
       "  'type(b)',\n",
       "  'c = 156.25e6\\nc',\n",
       "  'type(c)',\n",
       "  'vars()',\n",
       "  'locals()'],\n",
       " '_oh': {3: 5, 4: int, 5: 2.0, 6: float, 7: 156250000.0, 8: float, 9: {...}},\n",
       " '_dh': [WindowsPath('D:/Mathias/Code/personal/python/jupyter/jupyter-intro/Python')],\n",
       " 'In': ['',\n",
       "  'print(\"My first message\")',\n",
       "  'help(print)',\n",
       "  'a = 5\\na',\n",
       "  'type(a)',\n",
       "  'b = 2.0\\nb',\n",
       "  'type(b)',\n",
       "  'c = 156.25e6\\nc',\n",
       "  'type(c)',\n",
       "  'vars()',\n",
       "  'locals()'],\n",
       " 'Out': {3: 5, 4: int, 5: 2.0, 6: float, 7: 156250000.0, 8: float, 9: {...}},\n",
       " 'get_ipython': <bound method InteractiveShell.get_ipython of <ipykernel.zmqshell.ZMQInteractiveShell object at 0x000001F014A2EBF0>>,\n",
       " 'exit': <IPython.core.autocall.ZMQExitAutocall at 0x1f014a2c400>,\n",
       " 'quit': <IPython.core.autocall.ZMQExitAutocall at 0x1f014a2c400>,\n",
       " '_': {...},\n",
       " '__': float,\n",
       " '___': 156250000.0,\n",
       " '_i': 'vars()',\n",
       " '_ii': 'type(c)',\n",
       " '_iii': 'c = 156.25e6\\nc',\n",
       " '_i1': 'print(\"My first message\")',\n",
       " '_i2': 'help(print)',\n",
       " '_i3': 'a = 5\\na',\n",
       " 'a': 5,\n",
       " '_3': 5,\n",
       " '_i4': 'type(a)',\n",
       " '_4': int,\n",
       " '_i5': 'b = 2.0\\nb',\n",
       " 'b': 2.0,\n",
       " '_5': 2.0,\n",
       " '_i6': 'type(b)',\n",
       " '_6': float,\n",
       " '_i7': 'c = 156.25e6\\nc',\n",
       " 'c': 156250000.0,\n",
       " '_7': 156250000.0,\n",
       " '_i8': 'type(c)',\n",
       " '_8': float,\n",
       " '_i9': 'vars()',\n",
       " '_9': {...},\n",
       " '_i10': 'locals()'}"
      ]
     },
     "execution_count": 10,
     "metadata": {},
     "output_type": "execute_result"
    }
   ],
   "source": [
    "locals()"
   ]
  },
  {
   "cell_type": "code",
   "execution_count": 11,
   "id": "9de5d696-7a90-46d9-93e5-c81831d5f033",
   "metadata": {},
   "outputs": [
    {
     "data": {
      "text/plain": [
       "{'__name__': '__main__',\n",
       " '__doc__': 'Automatically created module for IPython interactive environment',\n",
       " '__package__': None,\n",
       " '__loader__': None,\n",
       " '__spec__': None,\n",
       " '__builtin__': <module 'builtins' (built-in)>,\n",
       " '__builtins__': <module 'builtins' (built-in)>,\n",
       " '_ih': ['',\n",
       "  'print(\"My first message\")',\n",
       "  'help(print)',\n",
       "  'a = 5\\na',\n",
       "  'type(a)',\n",
       "  'b = 2.0\\nb',\n",
       "  'type(b)',\n",
       "  'c = 156.25e6\\nc',\n",
       "  'type(c)',\n",
       "  'vars()',\n",
       "  'locals()',\n",
       "  'globals()'],\n",
       " '_oh': {3: 5,\n",
       "  4: int,\n",
       "  5: 2.0,\n",
       "  6: float,\n",
       "  7: 156250000.0,\n",
       "  8: float,\n",
       "  9: {...},\n",
       "  10: {...}},\n",
       " '_dh': [WindowsPath('D:/Mathias/Code/personal/python/jupyter/jupyter-intro/Python')],\n",
       " 'In': ['',\n",
       "  'print(\"My first message\")',\n",
       "  'help(print)',\n",
       "  'a = 5\\na',\n",
       "  'type(a)',\n",
       "  'b = 2.0\\nb',\n",
       "  'type(b)',\n",
       "  'c = 156.25e6\\nc',\n",
       "  'type(c)',\n",
       "  'vars()',\n",
       "  'locals()',\n",
       "  'globals()'],\n",
       " 'Out': {3: 5,\n",
       "  4: int,\n",
       "  5: 2.0,\n",
       "  6: float,\n",
       "  7: 156250000.0,\n",
       "  8: float,\n",
       "  9: {...},\n",
       "  10: {...}},\n",
       " 'get_ipython': <bound method InteractiveShell.get_ipython of <ipykernel.zmqshell.ZMQInteractiveShell object at 0x000001F014A2EBF0>>,\n",
       " 'exit': <IPython.core.autocall.ZMQExitAutocall at 0x1f014a2c400>,\n",
       " 'quit': <IPython.core.autocall.ZMQExitAutocall at 0x1f014a2c400>,\n",
       " '_': {...},\n",
       " '__': {...},\n",
       " '___': float,\n",
       " '_i': 'locals()',\n",
       " '_ii': 'vars()',\n",
       " '_iii': 'type(c)',\n",
       " '_i1': 'print(\"My first message\")',\n",
       " '_i2': 'help(print)',\n",
       " '_i3': 'a = 5\\na',\n",
       " 'a': 5,\n",
       " '_3': 5,\n",
       " '_i4': 'type(a)',\n",
       " '_4': int,\n",
       " '_i5': 'b = 2.0\\nb',\n",
       " 'b': 2.0,\n",
       " '_5': 2.0,\n",
       " '_i6': 'type(b)',\n",
       " '_6': float,\n",
       " '_i7': 'c = 156.25e6\\nc',\n",
       " 'c': 156250000.0,\n",
       " '_7': 156250000.0,\n",
       " '_i8': 'type(c)',\n",
       " '_8': float,\n",
       " '_i9': 'vars()',\n",
       " '_9': {...},\n",
       " '_i10': 'locals()',\n",
       " '_10': {...},\n",
       " '_i11': 'globals()'}"
      ]
     },
     "execution_count": 11,
     "metadata": {},
     "output_type": "execute_result"
    }
   ],
   "source": [
    "globals()"
   ]
  },
  {
   "cell_type": "markdown",
   "id": "22d7f972-3872-45bc-9265-f896b7866d3d",
   "metadata": {},
   "source": [
    "## Basic Math"
   ]
  },
  {
   "cell_type": "code",
   "execution_count": 12,
   "id": "9af3a908-885d-4a44-931e-486e645a65a7",
   "metadata": {},
   "outputs": [
    {
     "data": {
      "text/plain": [
       "7.0"
      ]
     },
     "execution_count": 12,
     "metadata": {},
     "output_type": "execute_result"
    }
   ],
   "source": [
    "sum = a + b\n",
    "sum"
   ]
  },
  {
   "cell_type": "code",
   "execution_count": 13,
   "id": "1b97157b-cc66-4df6-9251-f2a8bb85e12c",
   "metadata": {},
   "outputs": [
    {
     "data": {
      "text/plain": [
       "3.0"
      ]
     },
     "execution_count": 13,
     "metadata": {},
     "output_type": "execute_result"
    }
   ],
   "source": [
    "diff = a - b\n",
    "diff"
   ]
  },
  {
   "cell_type": "code",
   "execution_count": 14,
   "id": "1e6a2d60-666e-4d07-b88c-ce125a827407",
   "metadata": {},
   "outputs": [
    {
     "data": {
      "text/plain": [
       "10.0"
      ]
     },
     "execution_count": 14,
     "metadata": {},
     "output_type": "execute_result"
    }
   ],
   "source": [
    "prod = a * b\n",
    "prod"
   ]
  },
  {
   "cell_type": "code",
   "execution_count": 15,
   "id": "0cde8bbb-c9bd-42a5-9785-b50c269b52c3",
   "metadata": {},
   "outputs": [
    {
     "data": {
      "text/plain": [
       "2"
      ]
     },
     "execution_count": 15,
     "metadata": {},
     "output_type": "execute_result"
    }
   ],
   "source": [
    "modulus = 101 % 3\n",
    "modulus"
   ]
  },
  {
   "cell_type": "code",
   "execution_count": 16,
   "id": "152fb3c6-a663-4e91-917a-fa84ed1db900",
   "metadata": {},
   "outputs": [
    {
     "data": {
      "text/plain": [
       "781.25"
      ]
     },
     "execution_count": 16,
     "metadata": {},
     "output_type": "execute_result"
    }
   ],
   "source": [
    "x = a * c / 1e6\n",
    "x"
   ]
  },
  {
   "cell_type": "code",
   "execution_count": 17,
   "id": "92e1a8fe-9ba2-4764-add5-e28c6e6af4a2",
   "metadata": {},
   "outputs": [
    {
     "data": {
      "text/plain": [
       "float"
      ]
     },
     "execution_count": 17,
     "metadata": {},
     "output_type": "execute_result"
    }
   ],
   "source": [
    "type(x)"
   ]
  },
  {
   "cell_type": "markdown",
   "id": "ba3520ef-0fa8-4b5c-9328-771359e8f4b8",
   "metadata": {},
   "source": [
    "## Some more Math functions (abs, log, round, ...)"
   ]
  },
  {
   "cell_type": "code",
   "execution_count": 18,
   "id": "5bd1272f-2d34-4430-b753-96a09845d33e",
   "metadata": {},
   "outputs": [
    {
     "data": {
      "text/plain": [
       "2.0"
      ]
     },
     "execution_count": 18,
     "metadata": {},
     "output_type": "execute_result"
    }
   ],
   "source": [
    "abs(-2.0)"
   ]
  },
  {
   "cell_type": "code",
   "execution_count": 19,
   "id": "333af815-2eb7-4c69-a5ae-65c90da20ce5",
   "metadata": {},
   "outputs": [
    {
     "data": {
      "text/plain": [
       "0.6931471805599453"
      ]
     },
     "execution_count": 19,
     "metadata": {},
     "output_type": "execute_result"
    }
   ],
   "source": [
    "import math\n",
    "math.log(2)"
   ]
  },
  {
   "cell_type": "code",
   "execution_count": 20,
   "id": "178dd27a-5f17-4714-8f63-a25321cd7231",
   "metadata": {},
   "outputs": [
    {
     "data": {
      "text/plain": [
       "0.3010299956639812"
      ]
     },
     "execution_count": 20,
     "metadata": {},
     "output_type": "execute_result"
    }
   ],
   "source": [
    "math.log10(2)"
   ]
  },
  {
   "cell_type": "code",
   "execution_count": 21,
   "id": "06d7e5b6-6d16-49a1-a7f7-1a24baff0f1e",
   "metadata": {},
   "outputs": [
    {
     "data": {
      "text/plain": [
       "2.0"
      ]
     },
     "execution_count": 21,
     "metadata": {},
     "output_type": "execute_result"
    }
   ],
   "source": [
    "math.log(4,2)"
   ]
  },
  {
   "cell_type": "code",
   "execution_count": 22,
   "id": "ef6a121f-10eb-46d9-9529-c0a8592aa27d",
   "metadata": {},
   "outputs": [
    {
     "data": {
      "text/plain": [
       "2.0"
      ]
     },
     "execution_count": 22,
     "metadata": {},
     "output_type": "execute_result"
    }
   ],
   "source": [
    "math.log2(4)"
   ]
  },
  {
   "cell_type": "code",
   "execution_count": 23,
   "id": "55f01c7b-3f5e-4716-bb4b-70c1d4b018c0",
   "metadata": {},
   "outputs": [
    {
     "data": {
      "text/plain": [
       "781"
      ]
     },
     "execution_count": 23,
     "metadata": {},
     "output_type": "execute_result"
    }
   ],
   "source": [
    "round(x)"
   ]
  },
  {
   "cell_type": "code",
   "execution_count": 24,
   "id": "3f9a680a-0688-4966-811d-a57c882cb4c0",
   "metadata": {},
   "outputs": [
    {
     "data": {
      "text/plain": [
       "782"
      ]
     },
     "execution_count": 24,
     "metadata": {},
     "output_type": "execute_result"
    }
   ],
   "source": [
    "math.ceil(x)"
   ]
  },
  {
   "cell_type": "code",
   "execution_count": 25,
   "id": "7e5a0696-6e7b-4449-a34e-980e696895e5",
   "metadata": {},
   "outputs": [
    {
     "data": {
      "text/plain": [
       "781"
      ]
     },
     "execution_count": 25,
     "metadata": {},
     "output_type": "execute_result"
    }
   ],
   "source": [
    "math.floor(x)"
   ]
  },
  {
   "cell_type": "code",
   "execution_count": 26,
   "id": "7f1cd8fb-db45-469c-8b07-d624a42f427a",
   "metadata": {},
   "outputs": [
    {
     "data": {
      "text/plain": [
       "2"
      ]
     },
     "execution_count": 26,
     "metadata": {},
     "output_type": "execute_result"
    }
   ],
   "source": [
    "math.gcd(2,10)"
   ]
  },
  {
   "cell_type": "code",
   "execution_count": 27,
   "id": "476ff163-b0f9-49da-ab5b-6d0b279218a2",
   "metadata": {},
   "outputs": [
    {
     "data": {
      "text/plain": [
       "10"
      ]
     },
     "execution_count": 27,
     "metadata": {},
     "output_type": "execute_result"
    }
   ],
   "source": [
    "math.lcm(2,10)"
   ]
  },
  {
   "cell_type": "markdown",
   "id": "56e60d55-7f81-4092-9f99-38ae2135f5fa",
   "metadata": {},
   "source": [
    "## Prime factorization\n",
    "\n",
    "using `primePy` package, see [primePy](https://github.com/janaindrajit/primePy)"
   ]
  },
  {
   "cell_type": "code",
   "execution_count": 28,
   "id": "91a921f4-85aa-4a85-828a-dfa9977cd895",
   "metadata": {},
   "outputs": [],
   "source": [
    "from primePy import primes"
   ]
  },
  {
   "cell_type": "code",
   "execution_count": 29,
   "id": "c92d1ccb-354a-43df-a57b-c8f8b6676e7b",
   "metadata": {},
   "outputs": [
    {
     "data": {
      "text/plain": [
       "['__builtins__',\n",
       " '__cached__',\n",
       " '__doc__',\n",
       " '__file__',\n",
       " '__loader__',\n",
       " '__name__',\n",
       " '__next_prime',\n",
       " '__package__',\n",
       " '__spec__',\n",
       " 'about',\n",
       " 'between',\n",
       " 'check',\n",
       " 'factor',\n",
       " 'factors',\n",
       " 'first',\n",
       " 'phi',\n",
       " 'sqrt',\n",
       " 'upto']"
      ]
     },
     "execution_count": 29,
     "metadata": {},
     "output_type": "execute_result"
    }
   ],
   "source": [
    "dir(primes)"
   ]
  },
  {
   "cell_type": "code",
   "execution_count": 30,
   "id": "6dedbddf-bac1-46d2-be34-465afbbeff38",
   "metadata": {},
   "outputs": [
    {
     "data": {
      "text/plain": [
       "[3, 5, 823]"
      ]
     },
     "execution_count": 30,
     "metadata": {},
     "output_type": "execute_result"
    }
   ],
   "source": [
    "primes.factors(12345)"
   ]
  },
  {
   "cell_type": "code",
   "execution_count": 31,
   "id": "2de44202-df40-47ba-97a5-2dbc5da5bdcb",
   "metadata": {},
   "outputs": [
    {
     "data": {
      "text/plain": [
       "[2, 2, 2, 2, 5, 5, 5, 5, 5, 5, 5, 5, 5, 5]"
      ]
     },
     "execution_count": 31,
     "metadata": {},
     "output_type": "execute_result"
    }
   ],
   "source": [
    "primes.factors(int(156.25e6))"
   ]
  },
  {
   "cell_type": "markdown",
   "id": "72e6d24f-ffca-4d21-9524-08c8de21badc",
   "metadata": {},
   "source": [
    "## Math for Signal Processing"
   ]
  },
  {
   "cell_type": "code",
   "execution_count": null,
   "id": "127fecb2-2651-4e96-a9ea-d65f18a2f27b",
   "metadata": {},
   "outputs": [],
   "source": []
  },
  {
   "cell_type": "code",
   "execution_count": null,
   "id": "c463afa9-2a12-434f-a895-331fd641ac44",
   "metadata": {},
   "outputs": [],
   "source": []
  },
  {
   "cell_type": "code",
   "execution_count": null,
   "id": "4a2be77f-acb0-4a55-90d8-40d99829f1bb",
   "metadata": {},
   "outputs": [],
   "source": []
  }
 ],
 "metadata": {
  "kernelspec": {
   "display_name": "Python 3 (ipykernel)",
   "language": "python",
   "name": "python3"
  },
  "language_info": {
   "codemirror_mode": {
    "name": "ipython",
    "version": 3
   },
   "file_extension": ".py",
   "mimetype": "text/x-python",
   "name": "python",
   "nbconvert_exporter": "python",
   "pygments_lexer": "ipython3",
   "version": "3.10.7"
  }
 },
 "nbformat": 4,
 "nbformat_minor": 5
}
