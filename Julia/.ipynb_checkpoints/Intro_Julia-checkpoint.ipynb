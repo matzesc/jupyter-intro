{
 "cells": [
  {
   "cell_type": "markdown",
   "id": "da00da9e-f3de-4265-8fe1-47cb4cb3a2bb",
   "metadata": {
    "tags": []
   },
   "source": [
    "# Introduction to Julia\n",
    "\n",
    "Topics:\n",
    "1. Print something\n",
    "2. Using variables"
   ]
  },
  {
   "cell_type": "markdown",
   "id": "bce8f459-c074-4eed-aee1-2fbc57e0a154",
   "metadata": {
    "tags": []
   },
   "source": [
    "## Print something\n",
    "\n",
    "Julia uses `println()` to print messages"
   ]
  },
  {
   "cell_type": "code",
   "execution_count": 1,
   "id": "b5ab48eb-0154-451c-85aa-1d59a831fe6f",
   "metadata": {},
   "outputs": [
    {
     "name": "stdout",
     "output_type": "stream",
     "text": [
      "My first message\n"
     ]
    }
   ],
   "source": [
    "println(\"My first message\")"
   ]
  },
  {
   "cell_type": "markdown",
   "id": "6d93e8f6-e2fa-4340-8e72-90b4770e2fdf",
   "metadata": {},
   "source": [
    "## Using variables\n"
   ]
  },
  {
   "cell_type": "code",
   "execution_count": 8,
   "id": "5caf2ba3-89d8-4427-ac35-e9c8f4ca649b",
   "metadata": {},
   "outputs": [
    {
     "data": {
      "text/plain": [
       "5"
      ]
     },
     "execution_count": 8,
     "metadata": {},
     "output_type": "execute_result"
    }
   ],
   "source": [
    "a = 5"
   ]
  },
  {
   "cell_type": "code",
   "execution_count": 3,
   "id": "89baf4ab-d875-4f27-9661-02b035b05d76",
   "metadata": {},
   "outputs": [
    {
     "data": {
      "text/plain": [
       "Int64"
      ]
     },
     "execution_count": 3,
     "metadata": {},
     "output_type": "execute_result"
    }
   ],
   "source": [
    "typeof(a)"
   ]
  },
  {
   "cell_type": "code",
   "execution_count": 4,
   "id": "5010613c-44f6-4eb6-898d-3955e90e18d6",
   "metadata": {},
   "outputs": [
    {
     "data": {
      "text/plain": [
       "2.0"
      ]
     },
     "execution_count": 4,
     "metadata": {},
     "output_type": "execute_result"
    }
   ],
   "source": [
    "b = 2.0"
   ]
  },
  {
   "cell_type": "code",
   "execution_count": 5,
   "id": "6304421f-6b49-4856-8183-b9345e4c1639",
   "metadata": {},
   "outputs": [
    {
     "data": {
      "text/plain": [
       "Float64"
      ]
     },
     "execution_count": 5,
     "metadata": {},
     "output_type": "execute_result"
    }
   ],
   "source": [
    "typeof(b)"
   ]
  },
  {
   "cell_type": "code",
   "execution_count": 9,
   "id": "cb7c3c89-c21e-454a-ab46-b2c156d8d593",
   "metadata": {},
   "outputs": [
    {
     "data": {
      "text/latex": [
       "\\begin{tabular}\n",
       "{l | r | l}\n",
       "name & size & summary \\\\\n",
       "\\hline\n",
       "Base &  & Module \\\\\n",
       "Core &  & Module \\\\\n",
       "Main &  & Module \\\\\n",
       "a & 8 bytes & Int64 \\\\\n",
       "b & 8 bytes & Float64 \\\\\n",
       "\\end{tabular}\n"
      ],
      "text/markdown": [
       "| name |    size | summary |\n",
       "|:---- | -------:|:------- |\n",
       "| Base |         | Module  |\n",
       "| Core |         | Module  |\n",
       "| Main |         | Module  |\n",
       "| a    | 8 bytes | Int64   |\n",
       "| b    | 8 bytes | Float64 |\n"
      ],
      "text/plain": [
       "  name    size summary\n",
       "  –––– ––––––– –––––––\n",
       "  Base         Module \n",
       "  Core         Module \n",
       "  Main         Module \n",
       "  a    8 bytes Int64  \n",
       "  b    8 bytes Float64"
      ]
     },
     "execution_count": 9,
     "metadata": {},
     "output_type": "execute_result"
    }
   ],
   "source": [
    "varinfo()"
   ]
  },
  {
   "cell_type": "code",
   "execution_count": null,
   "id": "3a329daf-20e7-4499-ba00-6757feb6cf3e",
   "metadata": {},
   "outputs": [],
   "source": []
  }
 ],
 "metadata": {
  "kernelspec": {
   "display_name": "Julia 1.8.2",
   "language": "julia",
   "name": "julia-1.8"
  },
  "language_info": {
   "file_extension": ".jl",
   "mimetype": "application/julia",
   "name": "julia",
   "version": "1.8.2"
  }
 },
 "nbformat": 4,
 "nbformat_minor": 5
}
