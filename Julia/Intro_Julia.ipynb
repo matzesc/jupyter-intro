{
 "cells": [
  {
   "cell_type": "markdown",
   "id": "da00da9e-f3de-4265-8fe1-47cb4cb3a2bb",
   "metadata": {
    "tags": []
   },
   "source": [
    "# Introduction to Julia\n",
    "\n",
    "Topics:\n",
    "1. Print something\n",
    "2. Using variables\n",
    "3. Basic Math\n",
    "4. Some more Math functions (abs, log, round, ...)\n",
    "5. Prime factorization\n",
    "6. Math for Signal Processing"
   ]
  },
  {
   "cell_type": "markdown",
   "id": "bce8f459-c074-4eed-aee1-2fbc57e0a154",
   "metadata": {
    "tags": []
   },
   "source": [
    "## Print something\n",
    "\n",
    "Julia uses `println()` to print messages, see [println()](https://docs.julialang.org/en/v1/base/io-network/#Base.println)"
   ]
  },
  {
   "cell_type": "code",
   "execution_count": null,
   "id": "b5ab48eb-0154-451c-85aa-1d59a831fe6f",
   "metadata": {},
   "outputs": [],
   "source": [
    "println(\"My first message\")"
   ]
  },
  {
   "cell_type": "code",
   "execution_count": null,
   "id": "5a92b532-3ed4-4d09-8f34-fa1dd7d66f98",
   "metadata": {},
   "outputs": [],
   "source": [
    "? println"
   ]
  },
  {
   "cell_type": "markdown",
   "id": "6d93e8f6-e2fa-4340-8e72-90b4770e2fdf",
   "metadata": {},
   "source": [
    "## Using variables\n",
    "\n",
    "* assign variables\n",
    "* show type of variables using `typeof()` function, see [typeof()](https://docs.julialang.org/en/v1/base/base/#Core.typeof)\n",
    "* show all variables using `varinfo()` function, see [varinfo()](https://docs.julialang.org/en/v1/stdlib/InteractiveUtils/#InteractiveUtils.varinfo)"
   ]
  },
  {
   "cell_type": "code",
   "execution_count": null,
   "id": "5caf2ba3-89d8-4427-ac35-e9c8f4ca649b",
   "metadata": {},
   "outputs": [],
   "source": [
    "a = 5"
   ]
  },
  {
   "cell_type": "code",
   "execution_count": null,
   "id": "89baf4ab-d875-4f27-9661-02b035b05d76",
   "metadata": {},
   "outputs": [],
   "source": [
    "typeof(a)"
   ]
  },
  {
   "cell_type": "code",
   "execution_count": null,
   "id": "5010613c-44f6-4eb6-898d-3955e90e18d6",
   "metadata": {},
   "outputs": [],
   "source": [
    "b = 2.0"
   ]
  },
  {
   "cell_type": "code",
   "execution_count": null,
   "id": "6304421f-6b49-4856-8183-b9345e4c1639",
   "metadata": {},
   "outputs": [],
   "source": [
    "typeof(b)"
   ]
  },
  {
   "cell_type": "code",
   "execution_count": null,
   "id": "9192f2aa-9846-4b12-9b91-07d147c08d0d",
   "metadata": {},
   "outputs": [],
   "source": [
    "c = 156.25e6"
   ]
  },
  {
   "cell_type": "code",
   "execution_count": null,
   "id": "5c6ed2b1-46ed-4fd0-bb76-b7b02e78ec57",
   "metadata": {},
   "outputs": [],
   "source": [
    "typeof(c)"
   ]
  },
  {
   "cell_type": "code",
   "execution_count": null,
   "id": "cb7c3c89-c21e-454a-ab46-b2c156d8d593",
   "metadata": {},
   "outputs": [],
   "source": [
    "varinfo()"
   ]
  },
  {
   "cell_type": "markdown",
   "id": "20fc25bf-3fcf-42d9-91c5-18f3497863c1",
   "metadata": {},
   "source": [
    "## Basic Math"
   ]
  },
  {
   "cell_type": "code",
   "execution_count": null,
   "id": "07d224ec-5c72-45ae-83ee-09cf2eab9dd1",
   "metadata": {},
   "outputs": [],
   "source": [
    "sum = a + b"
   ]
  },
  {
   "cell_type": "code",
   "execution_count": null,
   "id": "d0d8c4ba-62d3-496f-a604-7254497c11af",
   "metadata": {},
   "outputs": [],
   "source": [
    "diff = a - b"
   ]
  },
  {
   "cell_type": "code",
   "execution_count": null,
   "id": "b8ea52a1-6196-4c80-9e5b-e2fd978070fc",
   "metadata": {},
   "outputs": [],
   "source": [
    "prod = a * b"
   ]
  },
  {
   "cell_type": "code",
   "execution_count": null,
   "id": "f8be9365-2770-4b95-a26a-0af731b40f15",
   "metadata": {},
   "outputs": [],
   "source": [
    "pow = 2^5"
   ]
  },
  {
   "cell_type": "code",
   "execution_count": null,
   "id": "259ad274-bb2b-45ec-b528-f95928f8a522",
   "metadata": {},
   "outputs": [],
   "source": [
    "modulus = 101 % 3"
   ]
  },
  {
   "cell_type": "code",
   "execution_count": null,
   "id": "de78e17c-2950-4ef7-bc2d-531ea007dbe5",
   "metadata": {},
   "outputs": [],
   "source": [
    "x = a * c / 1e6"
   ]
  },
  {
   "cell_type": "code",
   "execution_count": null,
   "id": "59db76e6-77c0-47dd-ba0f-24d6ff7eaaa6",
   "metadata": {},
   "outputs": [],
   "source": [
    "typeof(x)"
   ]
  },
  {
   "cell_type": "markdown",
   "id": "a86c4a69-42d5-48f5-83b0-355befd0efbb",
   "metadata": {},
   "source": [
    "## Some more Math functions (abs, log, round, ...)"
   ]
  },
  {
   "cell_type": "code",
   "execution_count": null,
   "id": "8a7fc508-90fb-4d20-925a-a6c1777d9bf7",
   "metadata": {},
   "outputs": [],
   "source": [
    "abs(-2.0)"
   ]
  },
  {
   "cell_type": "code",
   "execution_count": null,
   "id": "714826c2-069d-495c-87de-bd173a84487f",
   "metadata": {},
   "outputs": [],
   "source": [
    "log(2)"
   ]
  },
  {
   "cell_type": "code",
   "execution_count": null,
   "id": "38775377-d2f6-4dcb-ab3d-af8848134786",
   "metadata": {},
   "outputs": [],
   "source": [
    "log10(2)"
   ]
  },
  {
   "cell_type": "code",
   "execution_count": null,
   "id": "45c0c085-b1ce-4b1f-9640-38c5879c7d06",
   "metadata": {},
   "outputs": [],
   "source": [
    "log(2,4)"
   ]
  },
  {
   "cell_type": "code",
   "execution_count": null,
   "id": "54d8724a-2900-465f-9f36-df327a1fc00d",
   "metadata": {},
   "outputs": [],
   "source": [
    "log2(4)"
   ]
  },
  {
   "cell_type": "code",
   "execution_count": null,
   "id": "5f7db3d6-fb59-4581-b597-b1cd34f89ff4",
   "metadata": {},
   "outputs": [],
   "source": [
    "round(x)"
   ]
  },
  {
   "cell_type": "code",
   "execution_count": null,
   "id": "24b6b209-1f85-402d-9a79-6b185056d5a2",
   "metadata": {},
   "outputs": [],
   "source": [
    "ceil(x)"
   ]
  },
  {
   "cell_type": "code",
   "execution_count": null,
   "id": "0b484e61-a3dd-48c6-8b50-33f95aa217b5",
   "metadata": {},
   "outputs": [],
   "source": [
    "floor(x)"
   ]
  },
  {
   "cell_type": "code",
   "execution_count": null,
   "id": "457f1118-ff59-49ba-9f29-508f002d2a08",
   "metadata": {},
   "outputs": [],
   "source": [
    "round(2.5)"
   ]
  },
  {
   "cell_type": "code",
   "execution_count": null,
   "id": "2b9669c4-f0c5-475a-8ac5-6945ce99fbef",
   "metadata": {},
   "outputs": [],
   "source": [
    "round(-2.5)"
   ]
  },
  {
   "cell_type": "code",
   "execution_count": null,
   "id": "1df160e8-6597-441e-aee2-cbae26256bc5",
   "metadata": {},
   "outputs": [],
   "source": [
    "? round()"
   ]
  },
  {
   "cell_type": "code",
   "execution_count": null,
   "id": "e71c50a8-04ef-455d-97f9-af9f3b757429",
   "metadata": {},
   "outputs": [],
   "source": [
    "gcd(2,10)"
   ]
  },
  {
   "cell_type": "code",
   "execution_count": null,
   "id": "c97d2b48-adc3-4bd7-a292-ae3857dc7a64",
   "metadata": {},
   "outputs": [],
   "source": [
    "lcm(2,10)"
   ]
  },
  {
   "cell_type": "markdown",
   "id": "ad4704b1-b588-4668-adf9-e7eb9cbca54e",
   "metadata": {},
   "source": [
    "## Prime factorization\n",
    "\n",
    "needs `Primes` package"
   ]
  },
  {
   "cell_type": "code",
   "execution_count": null,
   "id": "326679ad-7201-4bcc-91af-55ebef77515d",
   "metadata": {},
   "outputs": [],
   "source": [
    "#using Pkg\n",
    "#Pkg.add(\"Primes\")"
   ]
  },
  {
   "cell_type": "code",
   "execution_count": null,
   "id": "97e8fb43-6435-4e68-94c8-9cc36ab7904e",
   "metadata": {},
   "outputs": [],
   "source": [
    "using Primes"
   ]
  },
  {
   "cell_type": "code",
   "execution_count": null,
   "id": "c1a25e4a-baad-4bc0-b81e-b1e755345394",
   "metadata": {},
   "outputs": [],
   "source": [
    "names(Primes)"
   ]
  },
  {
   "cell_type": "code",
   "execution_count": null,
   "id": "3bcc06bf-94e5-4c6d-a907-99d05b2722f8",
   "metadata": {},
   "outputs": [],
   "source": [
    "factor(12345)"
   ]
  },
  {
   "cell_type": "code",
   "execution_count": null,
   "id": "db7234c4-24ed-49b1-8571-a574ab72e5ca",
   "metadata": {},
   "outputs": [],
   "source": [
    "factor(Int(156.25e6))"
   ]
  },
  {
   "cell_type": "code",
   "execution_count": null,
   "id": "add1ae23-28e3-4e34-a15d-eb6ee7c8c3aa",
   "metadata": {},
   "outputs": [],
   "source": [
    "varinfo()"
   ]
  },
  {
   "cell_type": "markdown",
   "id": "8719b361-48d4-497d-a072-36e2d65af705",
   "metadata": {},
   "source": [
    "## Math for signal procesing"
   ]
  },
  {
   "cell_type": "code",
   "execution_count": null,
   "id": "81976a22-2670-4a06-acf8-7d573a55de26",
   "metadata": {},
   "outputs": [],
   "source": [
    "\"\"\"\n",
    "    db(val)\n",
    "\n",
    "Return the value `val` in dB.\n",
    "\"\"\"\n",
    "function db(val)\n",
    "    return 20*log10(val)\n",
    "end"
   ]
  },
  {
   "cell_type": "code",
   "execution_count": null,
   "id": "d6b2544a-3acb-4615-abb3-30caae8d50f5",
   "metadata": {},
   "outputs": [],
   "source": [
    "db(2)"
   ]
  },
  {
   "cell_type": "code",
   "execution_count": null,
   "id": "37d56fd3-8741-4a64-852c-6e0cfdd45feb",
   "metadata": {},
   "outputs": [],
   "source": [
    "function db2mag(val)\n",
    "    return 10^(val/20)\n",
    "end"
   ]
  },
  {
   "cell_type": "code",
   "execution_count": null,
   "id": "b7558605-1f03-42b4-9360-565a4ed1aa0d",
   "metadata": {},
   "outputs": [],
   "source": [
    "db2mag(6.02)"
   ]
  },
  {
   "cell_type": "code",
   "execution_count": null,
   "id": "0ac1fabf-dd8f-495e-9029-ce7aaae054e0",
   "metadata": {},
   "outputs": [],
   "source": [
    "methods(db)"
   ]
  },
  {
   "cell_type": "code",
   "execution_count": null,
   "id": "084dbeee-c66f-4c4d-a32c-f3318cbdfbfb",
   "metadata": {},
   "outputs": [],
   "source": []
  },
  {
   "cell_type": "code",
   "execution_count": null,
   "id": "b0148b01-b4d1-49ae-b821-ac24690c7029",
   "metadata": {},
   "outputs": [],
   "source": []
  },
  {
   "cell_type": "code",
   "execution_count": null,
   "id": "a20b489f-79ed-4121-b991-d48e5fb928f8",
   "metadata": {},
   "outputs": [],
   "source": []
  }
 ],
 "metadata": {
  "kernelspec": {
   "display_name": "Julia 1.8.3",
   "language": "julia",
   "name": "julia-1.8"
  },
  "language_info": {
   "file_extension": ".jl",
   "mimetype": "application/julia",
   "name": "julia",
   "version": "1.8.3"
  }
 },
 "nbformat": 4,
 "nbformat_minor": 5
}
